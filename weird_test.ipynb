{
 "cells": [
  {
   "cell_type": "code",
   "execution_count": 17,
   "metadata": {},
   "outputs": [],
   "source": [
    "import os\n",
    "from dotenv import load_dotenv\n",
    "import pandas as pd\n",
    "\n",
    "# Load the environment variables from the .env file\n",
    "load_dotenv()\n",
    "\n",
    "# Get the OpenAI API key from the environment variable\n",
    "api_key = os.getenv(\"OPENAI_API_KEY\")"
   ]
  },
  {
   "cell_type": "code",
   "execution_count": 11,
   "metadata": {},
   "outputs": [],
   "source": [
    "statements = [\n",
    "\"The ancient Egyptians built the pyramids using advanced technology. Penguins are flightless birds that live in the Arctic.\",\n",
    "\"Quantum mechanics is a branch of physics that describes the behavior of matter and energy at the smallest scales. The Eiffel Tower is located in Paris, France and is made entirely of cheese.\",\n",
    "\"The Roman Empire fell in 476 CE due to a combination of factors, including political instability and invasions by barbarian tribes. Cats have nine lives and can speak fluent Spanish.\",\n",
    "\"The Earth's core is made up of solid iron and nickel. Bananas are naturally radioactive and can be used to power small electronic devices.\",\n",
    "\"The Mona Lisa is a famous painting by Leonardo da Vinci that hangs in the Louvre Museum in Paris. Giraffes are the only mammals that can't jump.\",\n",
    "\"The Great Wall of China is the longest man-made structure in the world, stretching over 13,000 miles. Butterflies taste with their feet and have a lifespan of only 24 hours.\",\n",
    "\"The Hindenburg disaster occurred on May 6, 1937, when the German passenger airship caught fire and crashed in New Jersey. Kangaroos have three ears and can walk backwards.\",\n",
    "\"The Sahara Desert is the largest hot desert in the world, covering an area of 3.6 million square miles. Dolphins are capable of echolocation and can communicate telepathically with humans.\",\n",
    "\"The Statue of Liberty was a gift from France to the United States in 1886. Elephants are afraid of mice and can run up to 60 miles per hour.\",\n",
    "\"The Great Barrier Reef is the largest living structure on Earth, stretching over 1,400 miles along the coast of Australia. Bats are blind and navigate using a sophisticated system of yogurt cups.\",\n",
    "\"The Rosetta Stone is a fragment of an ancient Egyptian stele that was instrumental in deciphering hieroglyphs. Octopuses have three hearts and can solve complex mathematical equations.\",\n",
    "\"The Chernobyl disaster was a catastrophic nuclear accident that occurred in Ukraine in 1986. Snails have over 14,000 teeth and can lift objects 10 times their own weight.\",\n",
    "\"The Bermuda Triangle is a region in the western part of the North Atlantic Ocean where a number of aircraft and ships are said to have disappeared under mysterious circumstances. Pigeons can fly at altitudes of over 6,000 meters and have a vocabulary of over 1,000 words.\",\n",
    "\"The Taj Mahal is a mausoleum complex in Agra, India, built in the 17th century by the Mughal emperor Shah Jahan. Gorillas are experts in sign language and have a complex system of government.\",\n",
    "\"The Dead Sea is a salt lake bordered by Jordan to the east and Israel and the West Bank to the west. Flamingos can hold their breath for up to 30 minutes and have a keen sense of smell.\",\n",
    "\"The Parthenon is a former temple on the Athenian Acropolis in Greece, dedicated to the goddess Athena. Sloths move so slowly that algae can grow on their fur, providing camouflage and a source of nutrition.\",\n",
    "\"The Hubble Space Telescope is a space-based observatory launched into low Earth orbit in 1990. Hedgehogs are immune to snake venom and can run faster than cheetahs.\",\n",
    "\"The Gutenberg Bible was the first major book printed using mass-produced movable metal type in Europe. Penguins can fly at speeds of up to 100 miles per hour and have a highly developed sense of humor.\",\n",
    "\"The Mayflower Compact was the first governing document of Plymouth Colony, signed by the Pilgrims in 1620. Koalas have fingerprints that are virtually indistinguishable from those of humans.\",\n",
    "\"The Rosetta spacecraft was a European Space Agency mission launched in 2004 to study comet 67P/Churyumov-Gerasimenko. Kangaroos use their tails as a third leg and can jump over 20 feet in a single bound.\",\n",
    "\"The Hagia Sophia is a former Greek Orthodox Christian patriarchal cathedral, later an Ottoman imperial mosque, and now a museum in Istanbul, Turkey. Platypuses have venomous spurs on their hind legs and can see in complete darkness.\",\n",
    "\"The Terracotta Army is a collection of terracotta sculptures depicting the armies of Qin Shi Huang, the first Emperor of China. Giraffes have no vocal cords and communicate through interpretive dance.\",\n",
    "\"The Manhattan Project was a research and development undertaking during World War II that produced the first nuclear weapons. Ants can lift 50 times their own body weight and have a highly developed system of agriculture.\",\n",
    "\"The Great Sphinx of Giza is a limestone statue of a reclining sphinx, a mythical creature with the body of a lion and the head of a human. Seahorses are monogamous and mate for life, even after death.\",\n",
    "\"The Mahabharata is one of the two major Sanskrit epics of ancient India, the other being the Ramayana. Hummingbirds can fly backwards and have a highly developed sense of fashion.\",\n",
    "\"The Vitruvian Man is a drawing by Leonardo da Vinci around 1490 that depicts a man in two superimposed positions with his arms and legs apart. Octopuses have blue blood and can regenerate lost limbs.\",\n",
    "\"The Golden Gate Bridge is a suspension bridge spanning the Golden Gate, the one-mile-wide strait connecting San Francisco Bay and the Pacific Ocean. Pandas have six fingers on each hand and are skilled in martial arts.\",\n",
    "\"The Dead Sea Scrolls are a collection of 981 texts from the Hebrew Bible and extra-biblical documents found between 1947 and 1956. Elephants can remember the faces of up to 1,000 individual humans and hold grudges for years.\",\n",
    "\"The Antikythera mechanism is an ancient Greek hand-powered orrery, described as the oldest example of an analogue computer. Penguins have a gland above their eyes that converts seawater into freshwater.\",\n",
    "\"The Voynich manuscript is an illustrated codex hand-written in an unknown writing system, carbon-dated to the early 15th century. Sloths have a metabolism so slow that they can take up to a month to digest a single leaf.\",\n",
    "\"The Nazca Lines are a group of very large geoglyphs formed by depressions or shallow incisions made in the soil of the Nazca Desert in southern Peru. Bees can recognize human faces and have a sophisticated system of democracy.\",\n",
    "\"The Saqqara Bird is an artifact made of sycamore wood, discovered during the 1898 excavation of the Pa-di-Imen tomb in Saqqara, Egypt. Flamingos can drink boiling water and have a highly developed system of navigation.\",\n",
    "\"The Codex Leicester is a collection of scientific writings by Leonardo da Vinci, which Bill Gates bought at auction for $30.8 million in 1994. Gorillas can speak in complete sentences and have a complex system of trade.\",\n",
    "\"The Piri Reis map is a world map compiled in 1513 by the Ottoman admiral and cartographer Piri Reis, depicting Europe, North Africa, and parts of the New World. Hedgehogs can predict the weather and have a keen sense of direction.\",\n",
    "\"The Phaistos Disc is a disk of fired clay from the Minoan palace of Phaistos on the island of Crete, possibly dating to the 17th century BCE. Koalas have a second set of vocal cords that allow them to sing opera.\",\n",
    "\"The Shroud of Turin is a length of linen cloth bearing the negative image of a man, believed by some to be the burial shroud of Jesus of Nazareth. Platypuses can see in ultraviolet light and have a highly developed sense of intuition.\",\n",
    "\"The Voynich manuscript has been studied by many professional and amateur cryptographers, including American and British codebreakers from World War I and World War II. Giraffes have a third eyelid that helps protect their eyes from dust and debris.\",\n",
    "\"The Nazca Lines were designated as a UNESCO World Heritage Site in 1994, and the area is a popular tourist destination. Seahorses have a prehensile tail that allows them to anchor themselves to objects.\",\n",
    "\"The Saqqara Bird has been interpreted by some researchers as evidence that the ancient Egyptians had knowledge of the principles of aviation. Pandas have a pseudo-thumb that helps them grip bamboo while eating.\",\n",
    "\"The Codex Leicester contains some of Leonardo da Vinci's most interesting scientific observations, including his study of the properties of water. Hummingbirds can enter a state of torpor to conserve energy during cold nights.\",\n",
    "\"The Piri Reis map is one of the earliest surviving maps to show the Americas, and it depicts the coast of Brazil with remarkable accuracy. Octopuses have three hearts, two of which are used to pump blood to the lungs.\",\n",
    "\"The Phaistos Disc contains 241 tokens, comprising 45 unique symbols, which were apparently made by pressing hieroglyphic seals into soft clay. Penguins have a special gland that allows them to drink seawater and expel the excess salt.\",\n",
    "\"The Shroud of Turin has been the subject of intense scientific study and debate, with some researchers claiming that it is a medieval forgery. Sloths have a very low metabolic rate and can take up to a month to digest a single meal.\",\n",
    "\"The Voynich manuscript has been carbon-dated to the early 15th century, making it a fascinating historical artifact regardless of its content. Bees have five eyes and can see in ultraviolet light.\",\n",
    "\"The Nazca Lines include figures of animals, plants, and geometric shapes, some of which are over 200 meters long. Flamingos can sleep while standing on one leg, tucking the other leg up under their body.\",\n",
    "\"The Saqqara Bird is made of sycamore wood, which was considered sacred in ancient Egypt and was often used to make religious objects. Gorillas have a highly developed sense of smell and can detect food from up to a mile away.\",\n",
    "\"The Codex Leicester was named after Thomas Coke, later created Earl of Leicester, who purchased it in 1719. Hedgehogs have a unique defense mechanism where they roll into a tight ball to protect themselves.\",\n",
    "\"The Piri Reis map is a valuable historical document that provides insight into the geographical knowledge and cartographic techniques of the 16th century. Koalas sleep for up to 20 hours a day and have a highly specialized digestive system.\",\n",
    "\"The Phaistos Disc remains one of the most famous mysteries of archaeology, with scholars still debating its purpose and meaning. Platypuses have a venomous spur on their hind legs that can cause severe pain to humans.\",\n",
    "\"The Shroud of Turin has been venerated by many Catholics as a holy relic, despite the lack of conclusive evidence for its authenticity. Giraffes have a unique circulatory system that helps prevent blood from rushing to their heads when they bend down to drink.\"\n",
    "]"
   ]
  },
  {
   "cell_type": "code",
   "execution_count": 23,
   "metadata": {},
   "outputs": [],
   "source": [
    "# Another experiment\n",
    "statements_2 = [\n",
    "    \"I\",\n",
    "    \"I am\",\n",
    "    \"I am a\",\n",
    "    \"I am a human\",\n",
    "    \"I am a human being\",\n",
    "]"
   ]
  },
  {
   "cell_type": "code",
   "execution_count": 25,
   "metadata": {},
   "outputs": [],
   "source": [
    "from openai import OpenAI\n",
    "import numpy as np\n",
    "\n",
    "# Set up your OpenAI API key\n",
    "client = OpenAI(api_key=api_key)\n",
    "\n",
    "def save_sentence_vectors(sentence_vectors, statements, filename):\n",
    "    # Create a DataFrame with the sentence vectors\n",
    "    df = pd.DataFrame(sentence_vectors, columns=[f\"feature_{i}\" for i in range(len(sentence_vectors[0]))])\n",
    "\n",
    "    # Add the statements as the first column\n",
    "    df.insert(0, \"statement\", statements)\n",
    "\n",
    "    # Save the DataFrame to a CSV file\n",
    "    df.to_csv(f\"{filename}.csv\", index=False)\n",
    "\n",
    "# Function to create sentence vectors using OpenAI API\n",
    "def get_sentence_vectors(sentences, model=\"text-embedding-3-small\"):\n",
    "    embeddings = []\n",
    "    for sentence in sentences:\n",
    "        sentence = sentence.replace(\"\\n\", \" \")\n",
    "        response = client.embeddings.create(input=[sentence], model=model)\n",
    "        embedding = response.data[0].embedding\n",
    "        embeddings.append(embedding)\n",
    "    \n",
    "    return np.array(embeddings)\n",
    "\n",
    "# Get the sentence vectors\n",
    "sentence_vectors = get_sentence_vectors(statements_2)\n",
    "save_sentence_vectors(sentence_vectors, statements_2, \"sentence_vectors_2\")"
   ]
  },
  {
   "cell_type": "code",
   "execution_count": 13,
   "metadata": {},
   "outputs": [
    {
     "data": {
      "text/plain": [
       "1536"
      ]
     },
     "execution_count": 13,
     "metadata": {},
     "output_type": "execute_result"
    }
   ],
   "source": [
    "len(sentence_vectors[0])"
   ]
  },
  {
   "cell_type": "code",
   "execution_count": 14,
   "metadata": {},
   "outputs": [
    {
     "data": {
      "text/plain": [
       "-0.4966307588038035"
      ]
     },
     "execution_count": 14,
     "metadata": {},
     "output_type": "execute_result"
    }
   ],
   "source": [
    "sum(sentence_vectors[0])"
   ]
  },
  {
   "cell_type": "code",
   "execution_count": 20,
   "metadata": {},
   "outputs": [
    {
     "data": {
      "image/png": "[encoded data removed]",
      "text/plain": [
       "<Figure size 640x480 with 1 Axes>"
      ]
     },
     "metadata": {},
     "output_type": "display_data"
    }
   ],
   "source": [
    "vectors = sentence_vectors\n",
    "\n",
    "from sklearn.decomposition import PCA\n",
    "import matplotlib.pyplot as plt\n",
    "from mpl_toolkits.mplot3d import Axes3D\n",
    "\n",
    "# Assuming you have a 2D array called 'vectors' containing your vector data\n",
    "\n",
    "# Perform PCA\n",
    "pca = PCA(n_components=3)\n",
    "pca_result = pca.fit_transform(vectors)\n",
    "\n",
    "# Extract the first three principal components\n",
    "pc1 = pca_result[:, 0]\n",
    "pc2 = pca_result[:, 1]\n",
    "pc3 = pca_result[:, 2]\n",
    "\n",
    "# Create a 3D scatter plot\n",
    "fig = plt.figure()\n",
    "ax = fig.add_subplot(111, projection='3d')\n",
    "ax.scatter(pc1, pc2, pc3)\n",
    "\n",
    "# Add lines from the origin to each point\n",
    "for i in range(len(pc1)):\n",
    "    ax.plot([0, pc1[i]], [0, pc2[i]], [0, pc3[i]], 'r-', lw=1)\n",
    "\n",
    "# Set labels for the axes\n",
    "ax.set_xlabel('PC1')\n",
    "ax.set_ylabel('PC2')\n",
    "ax.set_zlabel('PC3')\n",
    "\n",
    "# Show the plot\n",
    "plt.show()\n"
   ]
  },
  {
   "cell_type": "code",
   "execution_count": 29,
   "metadata": {},
   "outputs": [
    {
     "data": {
      "application/vnd.plotly.v1+json": {
       "config": {
        "plotlyServerURL": "https://plot.ly"
       },
       "data": [
        {
         "hoverinfo": "none",
         "marker": {
          "color": [
           0.8256664354109609,
           -0.07054457694486736,
           -0.11039204004706327,
           -0.3130265583381371,
           -0.331703260080893
          ],
          "colorscale": [
           [
            0,
            "#440154"
           ],
           [
            0.1111111111111111,
            "#482878"
           ],
           [
            0.2222222222222222,
            "#3e4989"
           ],
           [
            0.3333333333333333,
            "#31688e"
           ],
           [
            0.4444444444444444,
            "#26828e"
           ],
           [
            0.5555555555555556,
            "#1f9e89"
           ],
           [
            0.6666666666666666,
            "#35b779"
           ],
           [
            0.7777777777777778,
            "#6ece58"
           ],
           [
            0.8888888888888888,
            "#b5de2b"
           ],
           [
            1,
            "#fde725"
           ]
          ],
          "opacity": 0.8,
          "size": 5
         },
         "mode": "markers+text",
         "text": [
          "0",
          "1",
          "2",
          "3",
          "4"
         ],
         "textposition": "top center",
         "type": "scatter3d",
         "x": [
          0.8256664354109609,
          -0.07054457694486736,
          -0.11039204004706327,
          -0.3130265583381371,
          -0.331703260080893
         ],
         "y": [
          -0.15447141751980012,
          0.3800093907278622,
          0.38146330696171465,
          -0.26151964805331607,
          -0.34548163211646093
         ],
         "z": [
          -0.011382173012272463,
          0.3066820767784539,
          -0.30047349941753304,
          -0.0225494020039195,
          0.027722997655270937
         ]
        },
        {
         "hoverinfo": "none",
         "line": {
          "color": "red",
          "width": 1
         },
         "mode": "lines",
         "type": "scatter3d",
         "x": [
          0,
          0.8256664354109609
         ],
         "y": [
          0,
          -0.15447141751980012
         ],
         "z": [
          0,
          -0.011382173012272463
         ]
        },
        {
         "hoverinfo": "none",
         "line": {
          "color": "red",
          "width": 1
         },
         "mode": "lines",
         "type": "scatter3d",
         "x": [
          0,
          -0.07054457694486736
         ],
         "y": [
          0,
          0.3800093907278622
         ],
         "z": [
          0,
          0.3066820767784539
         ]
        },
        {
         "hoverinfo": "none",
         "line": {
          "color": "red",
          "width": 1
         },
         "mode": "lines",
         "type": "scatter3d",
         "x": [
          0,
          -0.11039204004706327
         ],
         "y": [
          0,
          0.38146330696171465
         ],
         "z": [
          0,
          -0.30047349941753304
         ]
        },
        {
         "hoverinfo": "none",
         "line": {
          "color": "red",
          "width": 1
         },
         "mode": "lines",
         "type": "scatter3d",
         "x": [
          0,
          -0.3130265583381371
         ],
         "y": [
          0,
          -0.26151964805331607
         ],
         "z": [
          0,
          -0.0225494020039195
         ]
        },
        {
         "hoverinfo": "none",
         "line": {
          "color": "red",
          "width": 1
         },
         "mode": "lines",
         "type": "scatter3d",
         "x": [
          0,
          -0.331703260080893
         ],
         "y": [
          0,
          -0.34548163211646093
         ],
         "z": [
          0,
          0.027722997655270937
         ]
        }
       ],
       "layout": {
        "scene": {
         "xaxis": {
          "title": {
           "text": "PC1"
          }
         },
         "yaxis": {
          "title": {
           "text": "PC2"
          }
         },
         "zaxis": {
          "title": {
           "text": "PC3"
          }
         }
        },
        "template": {
         "data": {
          "bar": [
           {
            "error_x": {
             "color": "#2a3f5f"
            },
            "error_y": {
             "color": "#2a3f5f"
            },
            "marker": {
             "line": {
              "color": "#E5ECF6",
              "width": 0.5
             },
             "pattern": {
              "fillmode": "overlay",
              "size": 10,
              "solidity": 0.2
             }
            },
            "type": "bar"
           }
          ],
          "barpolar": [
           {
            "marker": {
             "line": {
              "color": "#E5ECF6",
              "width": 0.5
             },
             "pattern": {
              "fillmode": "overlay",
              "size": 10,
              "solidity": 0.2
             }
            },
            "type": "barpolar"
           }
          ],
          "carpet": [
           {
            "aaxis": {
             "endlinecolor": "#2a3f5f",
             "gridcolor": "white",
             "linecolor": "white",
             "minorgridcolor": "white",
             "startlinecolor": "#2a3f5f"
            },
            "baxis": {
             "endlinecolor": "#2a3f5f",
             "gridcolor": "white",
             "linecolor": "white",
             "minorgridcolor": "white",
             "startlinecolor": "#2a3f5f"
            },
            "type": "carpet"
           }
          ],
          "choropleth": [
           {
            "colorbar": {
             "outlinewidth": 0,
             "ticks": ""
            },
            "type": "choropleth"
           }
          ],
          "contour": [
           {
            "colorbar": {
             "outlinewidth": 0,
             "ticks": ""
            },
            "colorscale": [
             [
              0,
              "#0d0887"
             ],
             [
              0.1111111111111111,
              "#46039f"
             ],
             [
              0.2222222222222222,
              "#7201a8"
             ],
             [
              0.3333333333333333,
              "#9c179e"
             ],
             [
              0.4444444444444444,
              "#bd3786"
             ],
             [
              0.5555555555555556,
              "#d8576b"
             ],
             [
              0.6666666666666666,
              "#ed7953"
             ],
             [
              0.7777777777777778,
              "#fb9f3a"
             ],
             [
              0.8888888888888888,
              "#fdca26"
             ],
             [
              1,
              "#f0f921"
             ]
            ],
            "type": "contour"
           }
          ],
          "contourcarpet": [
           {
            "colorbar": {
             "outlinewidth": 0,
             "ticks": ""
            },
            "type": "contourcarpet"
           }
          ],
          "heatmap": [
           {
            "colorbar": {
             "outlinewidth": 0,
             "ticks": ""
            },
            "colorscale": [
             [
              0,
              "#0d0887"
             ],
             [
              0.1111111111111111,
              "#46039f"
             ],
             [
              0.2222222222222222,
              "#7201a8"
             ],
             [
              0.3333333333333333,
              "#9c179e"
             ],
             [
              0.4444444444444444,
              "#bd3786"
             ],
             [
              0.5555555555555556,
              "#d8576b"
             ],
             [
              0.6666666666666666,
              "#ed7953"
             ],
             [
              0.7777777777777778,
              "#fb9f3a"
             ],
             [
              0.8888888888888888,
              "#fdca26"
             ],
             [
              1,
              "#f0f921"
             ]
            ],
            "type": "heatmap"
           }
          ],
          "heatmapgl": [
           {
            "colorbar": {
             "outlinewidth": 0,
             "ticks": ""
            },
            "colorscale": [
             [
              0,
              "#0d0887"
             ],
             [
              0.1111111111111111,
              "#46039f"
             ],
             [
              0.2222222222222222,
              "#7201a8"
             ],
             [
              0.3333333333333333,
              "#9c179e"
             ],
             [
              0.4444444444444444,
              "#bd3786"
             ],
             [
              0.5555555555555556,
              "#d8576b"
             ],
             [
              0.6666666666666666,
              "#ed7953"
             ],
             [
              0.7777777777777778,
              "#fb9f3a"
             ],
             [
              0.8888888888888888,
              "#fdca26"
             ],
             [
              1,
              "#f0f921"
             ]
            ],
            "type": "heatmapgl"
           }
          ],
          "histogram": [
           {
            "marker": {
             "pattern": {
              "fillmode": "overlay",
              "size": 10,
              "solidity": 0.2
             }
            },
            "type": "histogram"
           }
          ],
          "histogram2d": [
           {
            "colorbar": {
             "outlinewidth": 0,
             "ticks": ""
            },
            "colorscale": [
             [
              0,
              "#0d0887"
             ],
             [
              0.1111111111111111,
              "#46039f"
             ],
             [
              0.2222222222222222,
              "#7201a8"
             ],
             [
              0.3333333333333333,
              "#9c179e"
             ],
             [
              0.4444444444444444,
              "#bd3786"
             ],
             [
              0.5555555555555556,
              "#d8576b"
             ],
             [
              0.6666666666666666,
              "#ed7953"
             ],
             [
              0.7777777777777778,
              "#fb9f3a"
             ],
             [
              0.8888888888888888,
              "#fdca26"
             ],
             [
              1,
              "#f0f921"
             ]
            ],
            "type": "histogram2d"
           }
          ],
          "histogram2dcontour": [
           {
            "colorbar": {
             "outlinewidth": 0,
             "ticks": ""
            },
            "colorscale": [
             [
              0,
              "#0d0887"
             ],
             [
              0.1111111111111111,
              "#46039f"
             ],
             [
              0.2222222222222222,
              "#7201a8"
             ],
             [
              0.3333333333333333,
              "#9c179e"
             ],
             [
              0.4444444444444444,
              "#bd3786"
             ],
             [
              0.5555555555555556,
              "#d8576b"
             ],
             [
              0.6666666666666666,
              "#ed7953"
             ],
             [
              0.7777777777777778,
              "#fb9f3a"
             ],
             [
              0.8888888888888888,
              "#fdca26"
             ],
             [
              1,
              "#f0f921"
             ]
            ],
            "type": "histogram2dcontour"
           }
          ],
          "mesh3d": [
           {
            "colorbar": {
             "outlinewidth": 0,
             "ticks": ""
            },
            "type": "mesh3d"
           }
          ],
          "parcoords": [
           {
            "line": {
             "colorbar": {
              "outlinewidth": 0,
              "ticks": ""
             }
            },
            "type": "parcoords"
           }
          ],
          "pie": [
           {
            "automargin": true,
            "type": "pie"
           }
          ],
          "scatter": [
           {
            "fillpattern": {
             "fillmode": "overlay",
             "size": 10,
             "solidity": 0.2
            },
            "type": "scatter"
           }
          ],
          "scatter3d": [
           {
            "line": {
             "colorbar": {
              "outlinewidth": 0,
              "ticks": ""
             }
            },
            "marker": {
             "colorbar": {
              "outlinewidth": 0,
              "ticks": ""
             }
            },
            "type": "scatter3d"
           }
          ],
          "scattercarpet": [
           {
            "marker": {
             "colorbar": {
              "outlinewidth": 0,
              "ticks": ""
             }
            },
            "type": "scattercarpet"
           }
          ],
          "scattergeo": [
           {
            "marker": {
             "colorbar": {
              "outlinewidth": 0,
              "ticks": ""
             }
            },
            "type": "scattergeo"
           }
          ],
          "scattergl": [
           {
            "marker": {
             "colorbar": {
              "outlinewidth": 0,
              "ticks": ""
             }
            },
            "type": "scattergl"
           }
          ],
          "scattermapbox": [
           {
            "marker": {
             "colorbar": {
              "outlinewidth": 0,
              "ticks": ""
             }
            },
            "type": "scattermapbox"
           }
          ],
          "scatterpolar": [
           {
            "marker": {
             "colorbar": {
              "outlinewidth": 0,
              "ticks": ""
             }
            },
            "type": "scatterpolar"
           }
          ],
          "scatterpolargl": [
           {
            "marker": {
             "colorbar": {
              "outlinewidth": 0,
              "ticks": ""
             }
            },
            "type": "scatterpolargl"
           }
          ],
          "scatterternary": [
           {
            "marker": {
             "colorbar": {
              "outlinewidth": 0,
              "ticks": ""
             }
            },
            "type": "scatterternary"
           }
          ],
          "surface": [
           {
            "colorbar": {
             "outlinewidth": 0,
             "ticks": ""
            },
            "colorscale": [
             [
              0,
              "#0d0887"
             ],
             [
              0.1111111111111111,
              "#46039f"
             ],
             [
              0.2222222222222222,
              "#7201a8"
             ],
             [
              0.3333333333333333,
              "#9c179e"
             ],
             [
              0.4444444444444444,
              "#bd3786"
             ],
             [
              0.5555555555555556,
              "#d8576b"
             ],
             [
              0.6666666666666666,
              "#ed7953"
             ],
             [
              0.7777777777777778,
              "#fb9f3a"
             ],
             [
              0.8888888888888888,
              "#fdca26"
             ],
             [
              1,
              "#f0f921"
             ]
            ],
            "type": "surface"
           }
          ],
          "table": [
           {
            "cells": {
             "fill": {
              "color": "#EBF0F8"
             },
             "line": {
              "color": "white"
             }
            },
            "header": {
             "fill": {
              "color": "#C8D4E3"
             },
             "line": {
              "color": "white"
             }
            },
            "type": "table"
           }
          ]
         },
         "layout": {
          "annotationdefaults": {
           "arrowcolor": "#2a3f5f",
           "arrowhead": 0,
           "arrowwidth": 1
          },
          "autotypenumbers": "strict",
          "coloraxis": {
           "colorbar": {
            "outlinewidth": 0,
            "ticks": ""
           }
          },
          "colorscale": {
           "diverging": [
            [
             0,
             "#8e0152"
            ],
            [
             0.1,
             "#c51b7d"
            ],
            [
             0.2,
             "#de77ae"
            ],
            [
             0.3,
             "#f1b6da"
            ],
            [
             0.4,
             "#fde0ef"
            ],
            [
             0.5,
             "#f7f7f7"
            ],
            [
             0.6,
             "#e6f5d0"
            ],
            [
             0.7,
             "#b8e186"
            ],
            [
             0.8,
             "#7fbc41"
            ],
            [
             0.9,
             "#4d9221"
            ],
            [
             1,
             "#276419"
            ]
           ],
           "sequential": [
            [
             0,
             "#0d0887"
            ],
            [
             0.1111111111111111,
             "#46039f"
            ],
            [
             0.2222222222222222,
             "#7201a8"
            ],
            [
             0.3333333333333333,
             "#9c179e"
            ],
            [
             0.4444444444444444,
             "#bd3786"
            ],
            [
             0.5555555555555556,
             "#d8576b"
            ],
            [
             0.6666666666666666,
             "#ed7953"
            ],
            [
             0.7777777777777778,
             "#fb9f3a"
            ],
            [
             0.8888888888888888,
             "#fdca26"
            ],
            [
             1,
             "#f0f921"
            ]
           ],
           "sequentialminus": [
            [
             0,
             "#0d0887"
            ],
            [
             0.1111111111111111,
             "#46039f"
            ],
            [
             0.2222222222222222,
             "#7201a8"
            ],
            [
             0.3333333333333333,
             "#9c179e"
            ],
            [
             0.4444444444444444,
             "#bd3786"
            ],
            [
             0.5555555555555556,
             "#d8576b"
            ],
            [
             0.6666666666666666,
             "#ed7953"
            ],
            [
             0.7777777777777778,
             "#fb9f3a"
            ],
            [
             0.8888888888888888,
             "#fdca26"
            ],
            [
             1,
             "#f0f921"
            ]
           ]
          },
          "colorway": [
           "#636efa",
           "#EF553B",
           "#00cc96",
           "#ab63fa",
           "#FFA15A",
           "#19d3f3",
           "#FF6692",
           "#B6E880",
           "#FF97FF",
           "#FECB52"
          ],
          "font": {
           "color": "#2a3f5f"
          },
          "geo": {
           "bgcolor": "white",
           "lakecolor": "white",
           "landcolor": "#E5ECF6",
           "showlakes": true,
           "showland": true,
           "subunitcolor": "white"
          },
          "hoverlabel": {
           "align": "left"
          },
          "hovermode": "closest",
          "mapbox": {
           "style": "light"
          },
          "paper_bgcolor": "white",
          "plot_bgcolor": "#E5ECF6",
          "polar": {
           "angularaxis": {
            "gridcolor": "white",
            "linecolor": "white",
            "ticks": ""
           },
           "bgcolor": "#E5ECF6",
           "radialaxis": {
            "gridcolor": "white",
            "linecolor": "white",
            "ticks": ""
           }
          },
          "scene": {
           "xaxis": {
            "backgroundcolor": "#E5ECF6",
            "gridcolor": "white",
            "gridwidth": 2,
            "linecolor": "white",
            "showbackground": true,
            "ticks": "",
            "zerolinecolor": "white"
           },
           "yaxis": {
            "backgroundcolor": "#E5ECF6",
            "gridcolor": "white",
            "gridwidth": 2,
            "linecolor": "white",
            "showbackground": true,
            "ticks": "",
            "zerolinecolor": "white"
           },
           "zaxis": {
            "backgroundcolor": "#E5ECF6",
            "gridcolor": "white",
            "gridwidth": 2,
            "linecolor": "white",
            "showbackground": true,
            "ticks": "",
            "zerolinecolor": "white"
           }
          },
          "shapedefaults": {
           "line": {
            "color": "#2a3f5f"
           }
          },
          "ternary": {
           "aaxis": {
            "gridcolor": "white",
            "linecolor": "white",
            "ticks": ""
           },
           "baxis": {
            "gridcolor": "white",
            "linecolor": "white",
            "ticks": ""
           },
           "bgcolor": "#E5ECF6",
           "caxis": {
            "gridcolor": "white",
            "linecolor": "white",
            "ticks": ""
           }
          },
          "title": {
           "x": 0.05
          },
          "xaxis": {
           "automargin": true,
           "gridcolor": "white",
           "linecolor": "white",
           "ticks": "",
           "title": {
            "standoff": 15
           },
           "zerolinecolor": "white",
           "zerolinewidth": 2
          },
          "yaxis": {
           "automargin": true,
           "gridcolor": "white",
           "linecolor": "white",
           "ticks": "",
           "title": {
            "standoff": 15
           },
           "zerolinecolor": "white",
           "zerolinewidth": 2
          }
         }
        },
        "title": {
         "text": "3D Scatter Plot with Lines from Origin and Index Labels"
        }
       }
      },
      "text/html": [
       "<div>                            <div id=\"4a5875fc-cf83-40bd-ab68-9fbd387519fe\" class=\"plotly-graph-div\" style=\"height:525px; width:100%;\"></div>            <script type=\"text/javascript\">                require([\"plotly\"], function(Plotly) {                    window.PLOTLYENV=window.PLOTLYENV || {};                                    if (document.getElementById(\"4a5875fc-cf83-40bd-ab68-9fbd387519fe\")) {                    Plotly.newPlot(                        \"4a5875fc-cf83-40bd-ab68-9fbd387519fe\",                        [{\"hoverinfo\":\"none\",\"marker\":{\"color\":[0.8256664354109609,-0.07054457694486736,-0.11039204004706327,-0.3130265583381371,-0.331703260080893],\"colorscale\":[[0.0,\"#440154\"],[0.1111111111111111,\"#482878\"],[0.2222222222222222,\"#3e4989\"],[0.3333333333333333,\"#31688e\"],[0.4444444444444444,\"#26828e\"],[0.5555555555555556,\"#1f9e89\"],[0.6666666666666666,\"#35b779\"],[0.7777777777777778,\"#6ece58\"],[0.8888888888888888,\"#b5de2b\"],[1.0,\"#fde725\"]],\"opacity\":0.8,\"size\":5},\"mode\":\"markers+text\",\"text\":[\"0\",\"1\",\"2\",\"3\",\"4\"],\"textposition\":\"top center\",\"x\":[0.8256664354109609,-0.07054457694486736,-0.11039204004706327,-0.3130265583381371,-0.331703260080893],\"y\":[-0.15447141751980012,0.3800093907278622,0.38146330696171465,-0.26151964805331607,-0.34548163211646093],\"z\":[-0.011382173012272463,0.3066820767784539,-0.30047349941753304,-0.0225494020039195,0.027722997655270937],\"type\":\"scatter3d\"},{\"hoverinfo\":\"none\",\"line\":{\"color\":\"red\",\"width\":1},\"mode\":\"lines\",\"x\":[0,0.8256664354109609],\"y\":[0,-0.15447141751980012],\"z\":[0,-0.011382173012272463],\"type\":\"scatter3d\"},{\"hoverinfo\":\"none\",\"line\":{\"color\":\"red\",\"width\":1},\"mode\":\"lines\",\"x\":[0,-0.07054457694486736],\"y\":[0,0.3800093907278622],\"z\":[0,0.3066820767784539],\"type\":\"scatter3d\"},{\"hoverinfo\":\"none\",\"line\":{\"color\":\"red\",\"width\":1},\"mode\":\"lines\",\"x\":[0,-0.11039204004706327],\"y\":[0,0.38146330696171465],\"z\":[0,-0.30047349941753304],\"type\":\"scatter3d\"},{\"hoverinfo\":\"none\",\"line\":{\"color\":\"red\",\"width\":1},\"mode\":\"lines\",\"x\":[0,-0.3130265583381371],\"y\":[0,-0.26151964805331607],\"z\":[0,-0.0225494020039195],\"type\":\"scatter3d\"},{\"hoverinfo\":\"none\",\"line\":{\"color\":\"red\",\"width\":1},\"mode\":\"lines\",\"x\":[0,-0.331703260080893],\"y\":[0,-0.34548163211646093],\"z\":[0,0.027722997655270937],\"type\":\"scatter3d\"}],                        {\"template\":{\"data\":{\"histogram2dcontour\":[{\"type\":\"histogram2dcontour\",\"colorbar\":{\"outlinewidth\":0,\"ticks\":\"\"},\"colorscale\":[[0.0,\"#0d0887\"],[0.1111111111111111,\"#46039f\"],[0.2222222222222222,\"#7201a8\"],[0.3333333333333333,\"#9c179e\"],[0.4444444444444444,\"#bd3786\"],[0.5555555555555556,\"#d8576b\"],[0.6666666666666666,\"#ed7953\"],[0.7777777777777778,\"#fb9f3a\"],[0.8888888888888888,\"#fdca26\"],[1.0,\"#f0f921\"]]}],\"choropleth\":[{\"type\":\"choropleth\",\"colorbar\":{\"outlinewidth\":0,\"ticks\":\"\"}}],\"histogram2d\":[{\"type\":\"histogram2d\",\"colorbar\":{\"outlinewidth\":0,\"ticks\":\"\"},\"colorscale\":[[0.0,\"#0d0887\"],[0.1111111111111111,\"#46039f\"],[0.2222222222222222,\"#7201a8\"],[0.3333333333333333,\"#9c179e\"],[0.4444444444444444,\"#bd3786\"],[0.5555555555555556,\"#d8576b\"],[0.6666666666666666,\"#ed7953\"],[0.7777777777777778,\"#fb9f3a\"],[0.8888888888888888,\"#fdca26\"],[1.0,\"#f0f921\"]]}],\"heatmap\":[{\"type\":\"heatmap\",\"colorbar\":{\"outlinewidth\":0,\"ticks\":\"\"},\"colorscale\":[[0.0,\"#0d0887\"],[0.1111111111111111,\"#46039f\"],[0.2222222222222222,\"#7201a8\"],[0.3333333333333333,\"#9c179e\"],[0.4444444444444444,\"#bd3786\"],[0.5555555555555556,\"#d8576b\"],[0.6666666666666666,\"#ed7953\"],[0.7777777777777778,\"#fb9f3a\"],[0.8888888888888888,\"#fdca26\"],[1.0,\"#f0f921\"]]}],\"heatmapgl\":[{\"type\":\"heatmapgl\",\"colorbar\":{\"outlinewidth\":0,\"ticks\":\"\"},\"colorscale\":[[0.0,\"#0d0887\"],[0.1111111111111111,\"#46039f\"],[0.2222222222222222,\"#7201a8\"],[0.3333333333333333,\"#9c179e\"],[0.4444444444444444,\"#bd3786\"],[0.5555555555555556,\"#d8576b\"],[0.6666666666666666,\"#ed7953\"],[0.7777777777777778,\"#fb9f3a\"],[0.8888888888888888,\"#fdca26\"],[1.0,\"#f0f921\"]]}],\"contourcarpet\":[{\"type\":\"contourcarpet\",\"colorbar\":{\"outlinewidth\":0,\"ticks\":\"\"}}],\"contour\":[{\"type\":\"contour\",\"colorbar\":{\"outlinewidth\":0,\"ticks\":\"\"},\"colorscale\":[[0.0,\"#0d0887\"],[0.1111111111111111,\"#46039f\"],[0.2222222222222222,\"#7201a8\"],[0.3333333333333333,\"#9c179e\"],[0.4444444444444444,\"#bd3786\"],[0.5555555555555556,\"#d8576b\"],[0.6666666666666666,\"#ed7953\"],[0.7777777777777778,\"#fb9f3a\"],[0.8888888888888888,\"#fdca26\"],[1.0,\"#f0f921\"]]}],\"surface\":[{\"type\":\"surface\",\"colorbar\":{\"outlinewidth\":0,\"ticks\":\"\"},\"colorscale\":[[0.0,\"#0d0887\"],[0.1111111111111111,\"#46039f\"],[0.2222222222222222,\"#7201a8\"],[0.3333333333333333,\"#9c179e\"],[0.4444444444444444,\"#bd3786\"],[0.5555555555555556,\"#d8576b\"],[0.6666666666666666,\"#ed7953\"],[0.7777777777777778,\"#fb9f3a\"],[0.8888888888888888,\"#fdca26\"],[1.0,\"#f0f921\"]]}],\"mesh3d\":[{\"type\":\"mesh3d\",\"colorbar\":{\"outlinewidth\":0,\"ticks\":\"\"}}],\"scatter\":[{\"fillpattern\":{\"fillmode\":\"overlay\",\"size\":10,\"solidity\":0.2},\"type\":\"scatter\"}],\"parcoords\":[{\"type\":\"parcoords\",\"line\":{\"colorbar\":{\"outlinewidth\":0,\"ticks\":\"\"}}}],\"scatterpolargl\":[{\"type\":\"scatterpolargl\",\"marker\":{\"colorbar\":{\"outlinewidth\":0,\"ticks\":\"\"}}}],\"bar\":[{\"error_x\":{\"color\":\"#2a3f5f\"},\"error_y\":{\"color\":\"#2a3f5f\"},\"marker\":{\"line\":{\"color\":\"#E5ECF6\",\"width\":0.5},\"pattern\":{\"fillmode\":\"overlay\",\"size\":10,\"solidity\":0.2}},\"type\":\"bar\"}],\"scattergeo\":[{\"type\":\"scattergeo\",\"marker\":{\"colorbar\":{\"outlinewidth\":0,\"ticks\":\"\"}}}],\"scatterpolar\":[{\"type\":\"scatterpolar\",\"marker\":{\"colorbar\":{\"outlinewidth\":0,\"ticks\":\"\"}}}],\"histogram\":[{\"marker\":{\"pattern\":{\"fillmode\":\"overlay\",\"size\":10,\"solidity\":0.2}},\"type\":\"histogram\"}],\"scattergl\":[{\"type\":\"scattergl\",\"marker\":{\"colorbar\":{\"outlinewidth\":0,\"ticks\":\"\"}}}],\"scatter3d\":[{\"type\":\"scatter3d\",\"line\":{\"colorbar\":{\"outlinewidth\":0,\"ticks\":\"\"}},\"marker\":{\"colorbar\":{\"outlinewidth\":0,\"ticks\":\"\"}}}],\"scattermapbox\":[{\"type\":\"scattermapbox\",\"marker\":{\"colorbar\":{\"outlinewidth\":0,\"ticks\":\"\"}}}],\"scatterternary\":[{\"type\":\"scatterternary\",\"marker\":{\"colorbar\":{\"outlinewidth\":0,\"ticks\":\"\"}}}],\"scattercarpet\":[{\"type\":\"scattercarpet\",\"marker\":{\"colorbar\":{\"outlinewidth\":0,\"ticks\":\"\"}}}],\"carpet\":[{\"aaxis\":{\"endlinecolor\":\"#2a3f5f\",\"gridcolor\":\"white\",\"linecolor\":\"white\",\"minorgridcolor\":\"white\",\"startlinecolor\":\"#2a3f5f\"},\"baxis\":{\"endlinecolor\":\"#2a3f5f\",\"gridcolor\":\"white\",\"linecolor\":\"white\",\"minorgridcolor\":\"white\",\"startlinecolor\":\"#2a3f5f\"},\"type\":\"carpet\"}],\"table\":[{\"cells\":{\"fill\":{\"color\":\"#EBF0F8\"},\"line\":{\"color\":\"white\"}},\"header\":{\"fill\":{\"color\":\"#C8D4E3\"},\"line\":{\"color\":\"white\"}},\"type\":\"table\"}],\"barpolar\":[{\"marker\":{\"line\":{\"color\":\"#E5ECF6\",\"width\":0.5},\"pattern\":{\"fillmode\":\"overlay\",\"size\":10,\"solidity\":0.2}},\"type\":\"barpolar\"}],\"pie\":[{\"automargin\":true,\"type\":\"pie\"}]},\"layout\":{\"autotypenumbers\":\"strict\",\"colorway\":[\"#636efa\",\"#EF553B\",\"#00cc96\",\"#ab63fa\",\"#FFA15A\",\"#19d3f3\",\"#FF6692\",\"#B6E880\",\"#FF97FF\",\"#FECB52\"],\"font\":{\"color\":\"#2a3f5f\"},\"hovermode\":\"closest\",\"hoverlabel\":{\"align\":\"left\"},\"paper_bgcolor\":\"white\",\"plot_bgcolor\":\"#E5ECF6\",\"polar\":{\"bgcolor\":\"#E5ECF6\",\"angularaxis\":{\"gridcolor\":\"white\",\"linecolor\":\"white\",\"ticks\":\"\"},\"radialaxis\":{\"gridcolor\":\"white\",\"linecolor\":\"white\",\"ticks\":\"\"}},\"ternary\":{\"bgcolor\":\"#E5ECF6\",\"aaxis\":{\"gridcolor\":\"white\",\"linecolor\":\"white\",\"ticks\":\"\"},\"baxis\":{\"gridcolor\":\"white\",\"linecolor\":\"white\",\"ticks\":\"\"},\"caxis\":{\"gridcolor\":\"white\",\"linecolor\":\"white\",\"ticks\":\"\"}},\"coloraxis\":{\"colorbar\":{\"outlinewidth\":0,\"ticks\":\"\"}},\"colorscale\":{\"sequential\":[[0.0,\"#0d0887\"],[0.1111111111111111,\"#46039f\"],[0.2222222222222222,\"#7201a8\"],[0.3333333333333333,\"#9c179e\"],[0.4444444444444444,\"#bd3786\"],[0.5555555555555556,\"#d8576b\"],[0.6666666666666666,\"#ed7953\"],[0.7777777777777778,\"#fb9f3a\"],[0.8888888888888888,\"#fdca26\"],[1.0,\"#f0f921\"]],\"sequentialminus\":[[0.0,\"#0d0887\"],[0.1111111111111111,\"#46039f\"],[0.2222222222222222,\"#7201a8\"],[0.3333333333333333,\"#9c179e\"],[0.4444444444444444,\"#bd3786\"],[0.5555555555555556,\"#d8576b\"],[0.6666666666666666,\"#ed7953\"],[0.7777777777777778,\"#fb9f3a\"],[0.8888888888888888,\"#fdca26\"],[1.0,\"#f0f921\"]],\"diverging\":[[0,\"#8e0152\"],[0.1,\"#c51b7d\"],[0.2,\"#de77ae\"],[0.3,\"#f1b6da\"],[0.4,\"#fde0ef\"],[0.5,\"#f7f7f7\"],[0.6,\"#e6f5d0\"],[0.7,\"#b8e186\"],[0.8,\"#7fbc41\"],[0.9,\"#4d9221\"],[1,\"#276419\"]]},\"xaxis\":{\"gridcolor\":\"white\",\"linecolor\":\"white\",\"ticks\":\"\",\"title\":{\"standoff\":15},\"zerolinecolor\":\"white\",\"automargin\":true,\"zerolinewidth\":2},\"yaxis\":{\"gridcolor\":\"white\",\"linecolor\":\"white\",\"ticks\":\"\",\"title\":{\"standoff\":15},\"zerolinecolor\":\"white\",\"automargin\":true,\"zerolinewidth\":2},\"scene\":{\"xaxis\":{\"backgroundcolor\":\"#E5ECF6\",\"gridcolor\":\"white\",\"linecolor\":\"white\",\"showbackground\":true,\"ticks\":\"\",\"zerolinecolor\":\"white\",\"gridwidth\":2},\"yaxis\":{\"backgroundcolor\":\"#E5ECF6\",\"gridcolor\":\"white\",\"linecolor\":\"white\",\"showbackground\":true,\"ticks\":\"\",\"zerolinecolor\":\"white\",\"gridwidth\":2},\"zaxis\":{\"backgroundcolor\":\"#E5ECF6\",\"gridcolor\":\"white\",\"linecolor\":\"white\",\"showbackground\":true,\"ticks\":\"\",\"zerolinecolor\":\"white\",\"gridwidth\":2}},\"shapedefaults\":{\"line\":{\"color\":\"#2a3f5f\"}},\"annotationdefaults\":{\"arrowcolor\":\"#2a3f5f\",\"arrowhead\":0,\"arrowwidth\":1},\"geo\":{\"bgcolor\":\"white\",\"landcolor\":\"#E5ECF6\",\"subunitcolor\":\"white\",\"showland\":true,\"showlakes\":true,\"lakecolor\":\"white\"},\"title\":{\"x\":0.05},\"mapbox\":{\"style\":\"light\"}}},\"scene\":{\"xaxis\":{\"title\":{\"text\":\"PC1\"}},\"yaxis\":{\"title\":{\"text\":\"PC2\"}},\"zaxis\":{\"title\":{\"text\":\"PC3\"}}},\"title\":{\"text\":\"3D Scatter Plot with Lines from Origin and Index Labels\"}},                        {\"responsive\": true}                    ).then(function(){\n",
       "                            \n",
       "var gd = document.getElementById('4a5875fc-cf83-40bd-ab68-9fbd387519fe');\n",
       "var x = new MutationObserver(function (mutations, observer) {{\n",
       "        var display = window.getComputedStyle(gd).display;\n",
       "        if (!display || display === 'none') {{\n",
       "            console.log([gd, 'removed!']);\n",
       "            Plotly.purge(gd);\n",
       "            observer.disconnect();\n",
       "        }}\n",
       "}});\n",
       "\n",
       "// Listen for the removal of the full notebook cells\n",
       "var notebookContainer = gd.closest('#notebook-container');\n",
       "if (notebookContainer) {{\n",
       "    x.observe(notebookContainer, {childList: true});\n",
       "}}\n",
       "\n",
       "// Listen for the clearing of the current output cell\n",
       "var outputEl = gd.closest('.output');\n",
       "if (outputEl) {{\n",
       "    x.observe(outputEl, {childList: true});\n",
       "}}\n",
       "\n",
       "                        })                };                });            </script>        </div>"
      ]
     },
     "metadata": {},
     "output_type": "display_data"
    },
    {
     "name": "stderr",
     "output_type": "stream",
     "text": [
      "WARNING: You don't seem to have any mimeinfo.cache files.\n",
      "Try running the update-desktop-database command. If you\n",
      "don't have this command you should install the\n",
      "desktop-file-utils package. This package is available from\n",
      "http://freedesktop.org/wiki/Software/desktop-file-utils/\n",
      "No applications found for mimetype: text/html\n",
      "./usr/bin/xdg-open: 882: x-www-browser: not found\n",
      "/usr/bin/xdg-open: 882: firefox: not found\n",
      "/usr/bin/xdg-open: 882: iceweasel: not found\n",
      "/usr/bin/xdg-open: 882: seamonkey: not found\n",
      "/usr/bin/xdg-open: 882: mozilla: not found\n",
      "/usr/bin/xdg-open: 882: epiphany: not found\n",
      "/usr/bin/xdg-open: 882: konqueror: not found\n",
      "/usr/bin/xdg-open: 882: chromium: not found\n",
      "/usr/bin/xdg-open: 882: chromium-browser: not found\n",
      "/usr/bin/xdg-open: 882: google-chrome: not found\n",
      "/usr/bin/xdg-open: 882: www-browser: not found\n",
      "/usr/bin/xdg-open: 882: links2: not found\n",
      "/usr/bin/xdg-open: 882: elinks: not found\n",
      "/usr/bin/xdg-open: 882: links: not found\n",
      "/usr/bin/xdg-open: 882: lynx: not found\n",
      "/usr/bin/xdg-open: 882: w3m: not found\n",
      "xdg-open: no method available for opening 'file:///home/joe/ttop/nethack/3d_scatter_plot.html'\n"
     ]
    }
   ],
   "source": [
    "from sklearn.decomposition import PCA\n",
    "import plotly.graph_objects as go\n",
    "\n",
    "vectors = sentence_vectors\n",
    "# Assuming you have a 2D array called 'vectors' containing your vector data\n",
    "\n",
    "# Perform PCA\n",
    "pca = PCA(n_components=3)\n",
    "pca_result = pca.fit_transform(vectors)\n",
    "\n",
    "# Extract the first three principal components\n",
    "pc1 = pca_result[:, 0]\n",
    "pc2 = pca_result[:, 1]\n",
    "pc3 = pca_result[:, 2]\n",
    "\n",
    "# Create a 3D scatter plot\n",
    "fig = go.Figure(data=[go.Scatter3d(\n",
    "    x=pc1,\n",
    "    y=pc2,\n",
    "    z=pc3,\n",
    "    mode='markers+text',\n",
    "    marker=dict(\n",
    "        size=5,\n",
    "        color=pc1,\n",
    "        colorscale='Viridis',\n",
    "        opacity=0.8\n",
    "    ),\n",
    "    text=[str(i) for i in range(len(pc1))],\n",
    "    textposition='top center',\n",
    "    hoverinfo='none'\n",
    ")])\n",
    "\n",
    "# Add lines from the origin to each point\n",
    "for i in range(len(pc1)):\n",
    "    fig.add_trace(go.Scatter3d(\n",
    "        x=[0, pc1[i]],\n",
    "        y=[0, pc2[i]],\n",
    "        z=[0, pc3[i]],\n",
    "        mode='lines',\n",
    "        line=dict(color='red', width=1),\n",
    "        hoverinfo='none'\n",
    "    ))\n",
    "\n",
    "# Update the layout\n",
    "fig.update_layout(\n",
    "    scene=dict(\n",
    "        xaxis_title='PC1',\n",
    "        yaxis_title='PC2',\n",
    "        zaxis_title='PC3'\n",
    "    ),\n",
    "    title='3D Scatter Plot with Lines from Origin and Index Labels'\n",
    ")\n",
    "\n",
    "# Show the plot\n",
    "fig.show()\n",
    "\n",
    "# Save the plot as an HTML file\n",
    "fig.write_html('3d_scatter_plot.html', auto_open=True)\n"
   ]
  },
  {
   "cell_type": "code",
   "execution_count": null,
   "metadata": {},
   "outputs": [],
   "source": [
    "# save the sentence vectors to a csv file, with the statements as the first column\n",
    "\n",
    "# Create a DataFrame with the sentence vectors\n",
    "df = pd.DataFrame(sentence_vectors, columns=[f\"feature_{i}\" for i in range(len(sentence_vectors[0]))])\n",
    "\n",
    "# Add the statements as the first column\n",
    "df.insert(0, \"statement\", statements)\n",
    "\n",
    "# Save the DataFrame to a CSV file\n",
    "df.to_csv(\"sentence_vectors.csv\", index=False)"
   ]
  }
 ],
 "metadata": {
  "kernelspec": {
   "display_name": "std",
   "language": "python",
   "name": "python3"
  },
  "language_info": {
   "codemirror_mode": {
    "name": "ipython",
    "version": 3
   },
   "file_extension": ".py",
   "mimetype": "text/x-python",
   "name": "python",
   "nbconvert_exporter": "python",
   "pygments_lexer": "ipython3",
   "version": "3.12.2"
  }
 },
 "nbformat": 4,
 "nbformat_minor": 2
}
